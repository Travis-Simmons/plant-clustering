{
 "cells": [
  {
   "cell_type": "markdown",
   "metadata": {},
   "source": [
    "# Creating a translation function for flir and clustering"
   ]
  },
  {
   "cell_type": "code",
   "execution_count": null,
   "metadata": {},
   "outputs": [],
   "source": [
    "from sklearn.neighbors import BallTree\n",
    "import numpy as np\n",
    "import pandas as pd\n",
    "import geopandas as gpd\n",
    "import shapely.speedups"
   ]
  },
  {
   "cell_type": "code",
   "execution_count": null,
   "metadata": {},
   "outputs": [],
   "source": [
    "def move_flir_to_rgb(flir_identifications):\n",
    "\n",
    "    flir_translation_constant = (1.0272989925397269e-07*3, 1.5250405240863074e-06)\n",
    "    flir_identifications = flir_identifications.reset_index()\n",
    "    for index, row in flir_identifications.iterrows():\n",
    "        flir_identifications.loc[index, 'lat'] = flir_identifications.loc[index,'lat'] + flir_translation_constant[1]\n",
    "        flir_identifications.loc[index, 'lon'] = flir_identifications.loc[index, 'lon'] - flir_translation_constant[0]\n",
    "        \n",
    "    return flir_identifications\n",
    "\n",
    "def overlay(rgb, flir, buffersize = .000001):\n",
    "    flir = move_flir_to_rgb(flir)\n",
    "    flir_gdf = gpd.GeoDataFrame(flir, geometry=gpd.points_from_xy(flir.lon, flir.lat))\n",
    "    rgb = gpd.GeoDataFrame(rgb, geometry=gpd.points_from_xy(rgb.lon, rgb.lat))\n",
    "    rgb['geometry'] = rgb.geometry.buffer(buffersize)\n",
    "    flir_gdf['geometry'] = flir_gdf.geometry.buffer(buffersize)  \n",
    "    nearby_points = gpd.overlay( rgb, flir_gdf, how='intersection')\n",
    "    nearby_points.plot(alpha=0.5, figsize = (20,40))\n",
    "    \n",
    "    return nearby_points\n",
    "\n",
    "\n",
    "def name_flir(rgb, flir, buffersize = .000001):\n",
    "    flir = move_flir_to_rgb(flir)\n",
    "    flir_gdf = gpd.GeoDataFrame(flir, geometry=gpd.points_from_xy(flir.lon, flir.lat))\n",
    "    rgb = gpd.GeoDataFrame(rgb, geometry=gpd.points_from_xy(rgb.lon, rgb.lat))\n",
    "#     rgb['geometry'] = rgb.geometry.buffer(buffersize)\n",
    "    flir_gdf['geometry'] = flir_gdf.geometry.buffer(buffersize)  \n",
    "    \n",
    "    \n",
    "    shapely.speedups.enable() \n",
    "    # enable shapely.speedups which makes queries running faster.\n",
    "    rgb = rgb.reset_index()\n",
    "    flir_gdf = flir_gdf.reset_index()\n",
    "    \n",
    "    flir_gdf['plant_name'] = 'NaN'\n",
    "    \n",
    "    for index, row in flir_gdf.iterrows():\n",
    "        \n",
    "#         print(index)\n",
    "    \n",
    "        \n",
    "        pip_mask = rgb.within(row['geometry'])\n",
    "        \n",
    "#         print(pip_mask)\n",
    "        \n",
    "        rgb_points = rgb.loc[pip_mask]\n",
    "        \n",
    "#         print(rgb_points)\n",
    "        \n",
    "        if len(rgb_points) > 1:\n",
    "#             rgb_points = rgb_points.iloc[rgb_points['bounding_area_m2'].argmax()]\n",
    "            rgb_points = rgb_points[rgb_points['genotype'] == row['genotype']]\n",
    "            if len(rgb_points) > 1:\n",
    "                rgb_points = rgb_points[rgb_points['bounding_area_m2'] == max(rgb_points['bounding_area_m2'])]\n",
    "        \n",
    "#         print('rgb',rgb_points.iloc[0]['genotype'])\n",
    "        \n",
    "        try:\n",
    "#             print('flir',flir_gdf.loc[index]['genotype'], 'rgb', rgb_points.iloc[0]['genotype'])\n",
    "            if str(flir_gdf.loc[index]['genotype']) ==  str(rgb_points.iloc[0]['genotype']):\n",
    "#                 print('worked')\n",
    "                flir_gdf.loc[[index],['plant_name']] =  rgb_points.iloc[0]['plant_name']\n",
    "#                 print(flir_gdf.loc[index])\n",
    "#                 print(flir.gdf.loc[index]['plant_name'])\n",
    "#             print(rgb_points['plant_name'])\n",
    "            \n",
    "        except:\n",
    "            print('')\n",
    "#     Backwards\n",
    "#     pip_mask = flir_gdf.within(rgb.loc[0, 'geometry']) \n",
    "#     # selecting the polygon's geometry field to filter out points that \n",
    "#     # are not overlaid\n",
    "#     flir_point = flir_gdf.loc[pip_mask]\n",
    "#     name= rgb.loc[0,'plant_name']\n",
    "    \n",
    "    return flir_gdf"
   ]
  },
  {
   "cell_type": "code",
   "execution_count": null,
   "metadata": {},
   "outputs": [],
   "source": [
    "flir_identifications =  pd.read_csv(r\"C:\\Users\\Travis\\AppData\\Local\\Packages\\CanonicalGroupLimited.UbuntuonWindows_79rhkp1fndgsc\\LocalState\\rootfs\\home\\travis_s\\flir_identifications\\2020-03-03_indv_temps.csv\")\n",
    "\n",
    "# flir_identifications = pd.read_csv(r\"C:\\Users\\Travis\\Downloads\\FLIR_indv_plant_temp_S10\\2020-03-03_indv_temps.csv\")\n",
    "\n",
    "rgb_consistent_identifications = pd.read_csv(r\"C:\\Users\\Travis\\OneDrive - University of Arizona\\2_9_2021 Lettuce Data\\every_day_identifications.csv\")"
   ]
  },
  {
   "cell_type": "code",
   "execution_count": null,
   "metadata": {},
   "outputs": [],
   "source": [
    "rgb_last_day = rgb_consistent_identifications[rgb_consistent_identifications['date'] == '2020-03-03']\n",
    "\n"
   ]
  },
  {
   "cell_type": "code",
   "execution_count": null,
   "metadata": {},
   "outputs": [],
   "source": [
    "named_and_moved_flir = name_flir(rgb_last_day, flir_identifications, buffersize = .000004)\n",
    "\n"
   ]
  },
  {
   "cell_type": "code",
   "execution_count": null,
   "metadata": {},
   "outputs": [],
   "source": [
    "named_and_moved_flir.head()\n",
    "\n",
    "named_plants = named_and_moved_flir[named_and_moved_flir['plant_name'] != 'NaN']"
   ]
  },
  {
   "cell_type": "code",
   "execution_count": null,
   "metadata": {},
   "outputs": [],
   "source": [
    "named_plants.to_csv(r'C:\\Users\\Travis\\OneDrive - University of Arizona\\2_9_2021 Lettuce Data\\moved_named_flir_test.csv')"
   ]
  },
  {
   "cell_type": "code",
   "execution_count": null,
   "metadata": {},
   "outputs": [],
   "source": [
    "import winsound\n",
    "duration = 1000  # milliseconds\n",
    "freq = 440  # Hz\n",
    "winsound.Beep(freq, duration)"
   ]
  },
  {
   "cell_type": "code",
   "execution_count": null,
   "metadata": {},
   "outputs": [],
   "source": [
    "named_and_moved_flir.head()"
   ]
  },
  {
   "cell_type": "markdown",
   "metadata": {},
   "source": [
    "## Named and moved looks great 2/14/2021, now use this to name all of the other days of flir and add together."
   ]
  },
  {
   "cell_type": "code",
   "execution_count": null,
   "metadata": {},
   "outputs": [],
   "source": [
    "import glob"
   ]
  },
  {
   "cell_type": "code",
   "execution_count": null,
   "metadata": {},
   "outputs": [],
   "source": [
    "last_day_named_flir = pd.read_csv(r\"C:\\Users\\Travis\\OneDrive - University of Arizona\\2_9_2021 Lettuce Data\\moved_named_flir.csv\")\n",
    "\n",
    "flir_identifications_list =  glob.glob(r\"C:\\Users\\Travis\\AppData\\Local\\Packages\\CanonicalGroupLimited.UbuntuonWindows_79rhkp1fndgsc\\LocalState\\rootfs\\home\\travis_s\\flir_identifications\\*.csv\")\n"
   ]
  },
  {
   "cell_type": "code",
   "execution_count": null,
   "metadata": {},
   "outputs": [],
   "source": [
    "all_flir = pd.DataFrame()\n",
    "\n",
    "for i in flir_identifications_list[:-1]:\n",
    "    df = pd.read_csv(i)\n",
    "    all_flir = all_flir.append(df)\n",
    "\n",
    "all_flir.head()\n",
    "    "
   ]
  },
  {
   "cell_type": "code",
   "execution_count": null,
   "metadata": {},
   "outputs": [],
   "source": [
    "all_flir.head(-5)"
   ]
  },
  {
   "cell_type": "code",
   "execution_count": null,
   "metadata": {},
   "outputs": [],
   "source": [
    "# testing if this just works like this\n",
    "\n",
    "all_days_flir = name_flir(last_day_named_flir, all_flir, buffersize = .000004)\n",
    "all_days_flir.head()"
   ]
  },
  {
   "cell_type": "code",
   "execution_count": null,
   "metadata": {},
   "outputs": [],
   "source": [
    "all_days_flir.to_csv(r'C:\\Users\\Travis\\OneDrive - University of Arizona\\2_9_2021 Lettuce Data\\all_days_flir_moved_named.csv')"
   ]
  },
  {
   "cell_type": "code",
   "execution_count": null,
   "metadata": {},
   "outputs": [],
   "source": [
    "import winsound\n",
    "duration = 1000  # milliseconds\n",
    "freq = 440  # Hz\n",
    "winsound.Beep(freq, duration)"
   ]
  },
  {
   "cell_type": "code",
   "execution_count": null,
   "metadata": {},
   "outputs": [],
   "source": []
  },
  {
   "cell_type": "code",
   "execution_count": 6,
   "metadata": {},
   "outputs": [],
   "source": [
    "# combining all days"
   ]
  },
  {
   "cell_type": "code",
   "execution_count": 1,
   "metadata": {},
   "outputs": [],
   "source": [
    "import pandas as pd"
   ]
  },
  {
   "cell_type": "code",
   "execution_count": 5,
   "metadata": {},
   "outputs": [],
   "source": [
    "most_days = pd.read_csv(r\"C:\\Users\\Travis\\OneDrive - University of Arizona\\2_9_2021 Lettuce Data\\moved_named_flir.csv\")\n",
    "last_day = pd.read_csv(r\"C:\\Users\\Travis\\OneDrive - University of Arizona\\2_9_2021 Lettuce Data\\all_days_flir_moved_named.csv\")\n",
    "\n",
    "\n",
    "all_days = most_days.append(last_day)\n",
    "\n",
    "# all_days.reset_index()\n",
    "\n",
    "all_days.to_csv(r\"C:\\Users\\Travis\\OneDrive - University of Arizona\\2_9_2021 Lettuce Data\\season_10_flir_identifications_moved_named_complete.csv\")"
   ]
  },
  {
   "cell_type": "code",
   "execution_count": null,
   "metadata": {},
   "outputs": [],
   "source": []
  }
 ],
 "metadata": {
  "kernelspec": {
   "display_name": "Python 3",
   "language": "python",
   "name": "python3"
  },
  "language_info": {
   "codemirror_mode": {
    "name": "ipython",
    "version": 3
   },
   "file_extension": ".py",
   "mimetype": "text/x-python",
   "name": "python",
   "nbconvert_exporter": "python",
   "pygments_lexer": "ipython3",
   "version": "3.8.5"
  }
 },
 "nbformat": 4,
 "nbformat_minor": 4
}
