{
 "metadata": {
  "language_info": {
   "codemirror_mode": {
    "name": "ipython",
    "version": 3
   },
   "file_extension": ".py",
   "mimetype": "text/x-python",
   "name": "python",
   "nbconvert_exporter": "python",
   "pygments_lexer": "ipython3",
   "version": "3.8.5-final"
  },
  "orig_nbformat": 2,
  "kernelspec": {
   "name": "python3",
   "display_name": "Python 3",
   "language": "python"
  }
 },
 "nbformat": 4,
 "nbformat_minor": 2,
 "cells": [
  {
   "cell_type": "code",
   "execution_count": null,
   "metadata": {},
   "outputs": [],
   "source": [
    "import pandas as pd\n",
    "import geopandas as gpd\n",
    "\n",
    "rgb = pd.read_csv('../pointmatching_out/agglomerative_plant_clustering.csv')\n",
    "\n",
    "geno_of_intrest = 'GRxI_1016'\n",
    "\n",
    "one_geno = rgb[rgb['genotype'] == geno_of_intrest]\n"
   ]
  },
  {
   "cell_type": "code",
   "execution_count": null,
   "metadata": {},
   "outputs": [],
   "source": [
    "boundaries.head()"
   ]
  },
  {
   "cell_type": "code",
   "execution_count": null,
   "metadata": {},
   "outputs": [],
   "source": [
    "# adding geno to holly observations\n",
    "\n",
    "double_gdf = gpd.read_file('/home/travis_s/data/plant_prediction_data/intermediate/stereoTop/high_digitize_doubles.geojson')\n",
    "\n",
    "boundaries = gpd.read_file('/home/travis_s/data/plant_prediction_data/intermediate/stereoTop/season10_multi_latlon_geno.geojson')\n",
    "\n",
    "\n",
    "\n",
    "test = gpd.sjoin(double_gdf, boundaries, how = 'left', op = 'within')\n",
    "\n",
    "\n",
    "\n",
    "# print(type(double_gdf), type(boundaries))\n",
    "# for index, row in boundaries.iterrows():\n",
    "#     one_plot = gpd.GeoDataFrame(row)\n",
    "#     print(type(one_plot))\n",
    "#     one_point_set = gpd.overlay(row, double_gdf, how = 'union')\n",
    "#     break"
   ]
  },
  {
   "cell_type": "code",
   "execution_count": null,
   "metadata": {},
   "outputs": [],
   "source": [
    "test.head()\n",
    "\n",
    "df = pd.DataFrame(test)"
   ]
  },
  {
   "cell_type": "code",
   "execution_count": null,
   "metadata": {},
   "outputs": [],
   "source": [
    "df.head()"
   ]
  },
  {
   "cell_type": "code",
   "execution_count": null,
   "metadata": {},
   "outputs": [],
   "source": []
  },
  {
   "cell_type": "code",
   "execution_count": null,
   "metadata": {},
   "outputs": [],
   "source": [
    "for index, row in df.iterrows():\n",
    "    lon = str(row['geometry']).replace('(', ' ').split(' ')[-2]\n",
    "    lat = str(row['geometry']).replace('(', ' ').replace(')','').split(' ')[-1]\n",
    "    # flir_translation_constant = (1.0272989925397269e-07*3, 1.5250405240863074e-06)\n",
    "    # df.loc[index, 'lon'] = float(lon) - (flir_translation_constant[0]/.9)\n",
    "    # df.loc[index, 'lat'] = float(lat) + (flir_translation_constant[1]/2.5)\n",
    "\n",
    "    df.loc[index, 'lon'] = float(lon)\n",
    "    df.loc[index, 'lat'] = float(lat)"
   ]
  },
  {
   "cell_type": "code",
   "execution_count": null,
   "metadata": {},
   "outputs": [],
   "source": [
    "df.head()"
   ]
  },
  {
   "cell_type": "code",
   "execution_count": null,
   "metadata": {},
   "outputs": [],
   "source": [
    "df.to_csv('/home/travis_s/data/plant_prediction_data/intermediate/stereoTop/high_number_marked_doubles.csv')"
   ]
  },
  {
   "cell_type": "code",
   "execution_count": null,
   "metadata": {},
   "outputs": [],
   "source": []
  }
 ]
}